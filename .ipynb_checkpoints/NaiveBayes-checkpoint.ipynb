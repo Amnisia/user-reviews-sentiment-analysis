{
 "cells": [
  {
   "cell_type": "markdown",
   "metadata": {
    "deletable": true,
    "editable": true
   },
   "source": [
    "### Import Machine Learning and Visualization Libraries"
   ]
  },
  {
   "cell_type": "code",
   "execution_count": 3,
   "metadata": {
    "collapsed": false,
    "deletable": true,
    "editable": true
   },
   "outputs": [
    {
     "name": "stdout",
     "output_type": "stream",
     "text": [
      "Populating the interactive namespace from numpy and matplotlib\n"
     ]
    }
   ],
   "source": [
    "%pylab inline\n",
    "import pandas as pd\n",
    "import json\n",
    "import ast"
   ]
  },
  {
   "cell_type": "markdown",
   "metadata": {},
   "source": [
    "### Function to Convert the Data into a Feature Set"
   ]
  },
  {
   "cell_type": "code",
   "execution_count": 13,
   "metadata": {
    "collapsed": true
   },
   "outputs": [],
   "source": [
    "# Map All the Words to a Feature Vector\n",
    "# Each word is mapped to an index in a feature vector\n",
    "def createTrainingData(words):\n",
    "    arr = numpy.zeros(len(index_map));\n",
    "    for word in words:\n",
    "        arr[index_map[word]] += 1;\n",
    "    return arr;"
   ]
  },
  {
   "cell_type": "markdown",
   "metadata": {
    "deletable": true,
    "editable": true
   },
   "source": [
    "### Load the Data + Some Processing"
   ]
  },
  {
   "cell_type": "code",
   "execution_count": 16,
   "metadata": {
    "collapsed": true
   },
   "outputs": [],
   "source": [
    "file = '../data/final.csv'\n",
    "df = pd.read_csv(file)\n",
    "\n",
    "x_label = \"Review\"\n",
    "y_label = \"Sentiment\""
   ]
  },
  {
   "cell_type": "code",
   "execution_count": 4,
   "metadata": {
    "collapsed": false,
    "deletable": true,
    "editable": true
   },
   "outputs": [
    {
     "name": "stderr",
     "output_type": "stream",
     "text": [
      "/usr/local/lib/python2.7/site-packages/ipykernel/__main__.py:26: FutureWarning: comparison to `None` will result in an elementwise object comparison in the future.\n"
     ]
    },
    {
     "name": "stdout",
     "output_type": "stream",
     "text": [
      "Feature Data is of Shape:  (999, 2420)\n",
      "Label Data is of Shape:  (999,)\n"
     ]
    }
   ],
   "source": [
    "index_map = dict();\n",
    "count = 0;\n",
    "\n",
    "## Map each word to a specific index.\n",
    "## This will let us create feature vector\n",
    "## where each word is mapped to an index.\n",
    "for sentence in df[x_label].tolist():\n",
    "    words = sentence.split(\" \");\n",
    "    for word in words:\n",
    "        if not word in index_map:\n",
    "            index_map[word] = count;\n",
    "            count += 1;\n",
    "\n",
    "# Create the Training Data (x)\n",
    "train_x = None\n",
    "for arr in df['Review'].tolist():\n",
    "    words = arr\n",
    "    if train_x == None:\n",
    "        train_x = createTrainingData(words.split(\" \"))\n",
    "    else:\n",
    "        train_x = numpy.vstack((train_x, createTrainingData(words.split(\" \"))))\n",
    "        \n",
    "        \n",
    "# Create the Training Data (y)\n",
    "train_y = numpy.array(df['Sentiment'].tolist());\n",
    "\n",
    "print \"Feature Data is of Shape: \", train_x.shape\n",
    "print \"Label Data is of Shape: \", train_y.shape"
   ]
  },
  {
   "cell_type": "markdown",
   "metadata": {
    "deletable": true,
    "editable": true
   },
   "source": [
    "### Function to Train the Classifer and Run it Against Test Data"
   ]
  },
  {
   "cell_type": "code",
   "execution_count": 10,
   "metadata": {
    "collapsed": false,
    "deletable": true,
    "editable": true
   },
   "outputs": [],
   "source": [
    "from sklearn.naive_bayes import GaussianNB as ml_algo\n",
    "from sklearn import metrics as metrics\n",
    "\n",
    "def train(x,y,tx,ty):\n",
    "    classifier = ml_algo()\n",
    "    classifier.fit(x, y)\n",
    "    acc = metrics.accuracy_score(test_y, classifier.predict(test_x))\n",
    "    return acc"
   ]
  },
  {
   "cell_type": "markdown",
   "metadata": {
    "deletable": true,
    "editable": true
   },
   "source": [
    "### Test Accuracy Using K-Fold Cross Validation"
   ]
  },
  {
   "cell_type": "code",
   "execution_count": 11,
   "metadata": {
    "collapsed": false,
    "deletable": true,
    "editable": true
   },
   "outputs": [
    {
     "name": "stdout",
     "output_type": "stream",
     "text": [
      "5 - fold cross validation\n",
      "\n",
      "k = 0 : Accuracy: 0.738693\n",
      "k = 1 : Accuracy: 0.688442\n",
      "k = 2 : Accuracy: 0.653266\n",
      "k = 3 : Accuracy: 0.718593\n",
      "k = 4 : Accuracy: 0.768844\n",
      "Average Accuracy: 0.713567839196\n"
     ]
    }
   ],
   "source": [
    "k = 5; # number for k fold cross validation\n",
    "b_length = len(train_x)/k; # the bucket length\n",
    "sum_acc = 0; # Use this for average accuracy\n",
    "print k, \"- fold cross validation\\n\"\n",
    "\n",
    "for i in range(0,k):\n",
    "    \n",
    "    s_i = i*b_length;\n",
    "    f_i = s_i + b_length;\n",
    "   \n",
    "    test_x = train_x[s_i:f_i]\n",
    "    test_y = train_y[s_i:f_i]\n",
    "    \n",
    "    ntx = numpy.vstack((train_x[0:s_i],train_x[f_i:len(train_x)]))\n",
    "    nty = numpy.append(train_y[0:s_i],train_y[f_i:len(train_y)])\n",
    "    \n",
    "    score = train(ntx,nty,test_x,test_y)\n",
    "    print 'k =',i,': Accuracy: %f' % score\n",
    "    sum_acc += score;\n",
    "    \n",
    "print 'Average Accuracy:', sum_acc / 5"
   ]
  },
  {
   "cell_type": "markdown",
   "metadata": {
    "deletable": true,
    "editable": true
   },
   "source": [
    "### Visualize the model"
   ]
  },
  {
   "cell_type": "code",
   "execution_count": null,
   "metadata": {
    "collapsed": true,
    "deletable": true,
    "editable": true
   },
   "outputs": [],
   "source": []
  }
 ],
 "metadata": {
  "kernelspec": {
   "display_name": "Python 2",
   "language": "python",
   "name": "python2"
  },
  "language_info": {
   "codemirror_mode": {
    "name": "ipython",
    "version": 2
   },
   "file_extension": ".py",
   "mimetype": "text/x-python",
   "name": "python",
   "nbconvert_exporter": "python",
   "pygments_lexer": "ipython2",
   "version": "2.7.10"
  }
 },
 "nbformat": 4,
 "nbformat_minor": 2
}
